{
 "cells": [
  {
   "cell_type": "markdown",
   "metadata": {},
   "source": [
    "# Analiza Forbesove liste najboljše ocenjenih športnih klubov "
   ]
  },
  {
   "cell_type": "code",
   "execution_count": 77,
   "metadata": {},
   "outputs": [],
   "source": [
    "import numpy as np\n",
    "%matplotlib inline\n",
    "import matplotlib.pyplot as plt\n",
    "plt.rcParams['figure.figsize'] = (15, 5)"
   ]
  },
  {
   "cell_type": "markdown",
   "metadata": {},
   "source": [
    "V moji projektni nalogi sem se odločil analizirati najbolj ocenjena športne klube glede na Forbesovo listo. Podatki so pobrani z Wikipedije. Kasneje sem dodatno vključil tudi najdražje pogodbe športnih igralcev. Podatki so prav tako pobrani iz Wikipedije. "
   ]
  },
  {
   "cell_type": "markdown",
   "metadata": {},
   "source": [
    "## Uvoz in urejanje podatkov"
   ]
  },
  {
   "cell_type": "code",
   "execution_count": 78,
   "metadata": {},
   "outputs": [],
   "source": [
    "import pandas as pd\n",
    "tabela = pd.read_csv('Klubi.csv', encoding = 'latin1')\n"
   ]
  },
  {
   "cell_type": "markdown",
   "metadata": {},
   "source": [
    "Podatke o Forbesovi listi sem spremenil v csv in jih uvozil. Moral sem poskrbeti za manjše napake v tabelah. "
   ]
  },
  {
   "cell_type": "code",
   "execution_count": 79,
   "metadata": {},
   "outputs": [],
   "source": [
    "for k in range(122):\n",
    "    if np.isnan(tabela.loc[k,'Rang']):\n",
    "        tabela.loc[k,'Rang']=tabela.loc[(k-1), 'Rang']\n",
    "        tabela.loc[k, 'Vrednost'] = tabela.loc[(k-1), 'Vrednost']"
   ]
  },
  {
   "cell_type": "markdown",
   "metadata": {},
   "source": [
    "Tabele na spletni strani so bile ločene po letih, ko sem jih združil skupaj je zato manjkal podatek, ki bi nam povedal kateremu letu pripada. Dodal sem stolpec \"Leto\", in dopolnil podatke, da so ustrezali tistim iz spletne strani. "
   ]
  },
  {
   "cell_type": "code",
   "execution_count": 80,
   "metadata": {},
   "outputs": [],
   "source": [
    "tabela['Leto'] = ''"
   ]
  },
  {
   "cell_type": "code",
   "execution_count": 81,
   "metadata": {},
   "outputs": [],
   "source": [
    "for i in range(0,51):\n",
    "    tabela.loc[i,'Leto']=2017"
   ]
  },
  {
   "cell_type": "code",
   "execution_count": 82,
   "metadata": {},
   "outputs": [],
   "source": [
    "tabela.loc[0,'Leto'] = 2017"
   ]
  },
  {
   "cell_type": "code",
   "execution_count": 83,
   "metadata": {},
   "outputs": [],
   "source": [
    "for i in range(51,61):\n",
    "    tabela.loc[i,'Leto']=2010"
   ]
  },
  {
   "cell_type": "code",
   "execution_count": 84,
   "metadata": {},
   "outputs": [],
   "source": [
    "for i in range(61,71):\n",
    "    tabela.loc[i,'Leto']=2011"
   ]
  },
  {
   "cell_type": "code",
   "execution_count": 85,
   "metadata": {},
   "outputs": [],
   "source": [
    "for i in range(71,81):\n",
    "    tabela.loc[i,'Leto']=2012"
   ]
  },
  {
   "cell_type": "code",
   "execution_count": 86,
   "metadata": {},
   "outputs": [],
   "source": [
    "for i in range(81,91):\n",
    "    tabela.loc[i,'Leto']=2013"
   ]
  },
  {
   "cell_type": "code",
   "execution_count": 87,
   "metadata": {},
   "outputs": [],
   "source": [
    "for i in range(91,101):\n",
    "    tabela.loc[i,'Leto']=2014"
   ]
  },
  {
   "cell_type": "code",
   "execution_count": 88,
   "metadata": {},
   "outputs": [],
   "source": [
    "for i in range(101,111):\n",
    "    tabela.loc[i,'Leto']=2015"
   ]
  },
  {
   "cell_type": "code",
   "execution_count": 89,
   "metadata": {},
   "outputs": [],
   "source": [
    "for i in range(111,122):\n",
    "    tabela.loc[i,'Leto']=2016"
   ]
  },
  {
   "cell_type": "markdown",
   "metadata": {},
   "source": [
    "Spodaj je prikazana glava tabele. Stolpci so Rang, Ime kluba, Šport, Država kluba, ocenjena vrednost kluba in pa leto."
   ]
  },
  {
   "cell_type": "code",
   "execution_count": 90,
   "metadata": {},
   "outputs": [
    {
     "data": {
      "text/html": [
       "<div>\n",
       "<style scoped>\n",
       "    .dataframe tbody tr th:only-of-type {\n",
       "        vertical-align: middle;\n",
       "    }\n",
       "\n",
       "    .dataframe tbody tr th {\n",
       "        vertical-align: top;\n",
       "    }\n",
       "\n",
       "    .dataframe thead th {\n",
       "        text-align: right;\n",
       "    }\n",
       "</style>\n",
       "<table border=\"1\" class=\"dataframe\">\n",
       "  <thead>\n",
       "    <tr style=\"text-align: right;\">\n",
       "      <th></th>\n",
       "      <th>Rang</th>\n",
       "      <th>Ime</th>\n",
       "      <th>Sport</th>\n",
       "      <th>Drzava</th>\n",
       "      <th>Vrednost</th>\n",
       "      <th>Leto</th>\n",
       "    </tr>\n",
       "  </thead>\n",
       "  <tbody>\n",
       "    <tr>\n",
       "      <th>0</th>\n",
       "      <td>1.0</td>\n",
       "      <td>Dallas Cowboys</td>\n",
       "      <td>American Football</td>\n",
       "      <td>United States</td>\n",
       "      <td>4.20</td>\n",
       "      <td>2017</td>\n",
       "    </tr>\n",
       "    <tr>\n",
       "      <th>1</th>\n",
       "      <td>2.0</td>\n",
       "      <td>New York Yankees</td>\n",
       "      <td>Baseball</td>\n",
       "      <td>United States</td>\n",
       "      <td>3.70</td>\n",
       "      <td>2017</td>\n",
       "    </tr>\n",
       "    <tr>\n",
       "      <th>2</th>\n",
       "      <td>3.0</td>\n",
       "      <td>Manchester United</td>\n",
       "      <td>Football</td>\n",
       "      <td>England</td>\n",
       "      <td>3.69</td>\n",
       "      <td>2017</td>\n",
       "    </tr>\n",
       "    <tr>\n",
       "      <th>3</th>\n",
       "      <td>4.0</td>\n",
       "      <td>Barcelona</td>\n",
       "      <td>Football</td>\n",
       "      <td>Spain</td>\n",
       "      <td>3.64</td>\n",
       "      <td>2017</td>\n",
       "    </tr>\n",
       "    <tr>\n",
       "      <th>4</th>\n",
       "      <td>5.0</td>\n",
       "      <td>Real Madrid</td>\n",
       "      <td>Football</td>\n",
       "      <td>Spain</td>\n",
       "      <td>3.58</td>\n",
       "      <td>2017</td>\n",
       "    </tr>\n",
       "    <tr>\n",
       "      <th>5</th>\n",
       "      <td>6.0</td>\n",
       "      <td>New England Patriots</td>\n",
       "      <td>American Football</td>\n",
       "      <td>United States</td>\n",
       "      <td>3.40</td>\n",
       "      <td>2017</td>\n",
       "    </tr>\n",
       "    <tr>\n",
       "      <th>6</th>\n",
       "      <td>7.0</td>\n",
       "      <td>New York Knicks</td>\n",
       "      <td>Basketball</td>\n",
       "      <td>United States</td>\n",
       "      <td>3.30</td>\n",
       "      <td>2017</td>\n",
       "    </tr>\n",
       "    <tr>\n",
       "      <th>7</th>\n",
       "      <td>8.0</td>\n",
       "      <td>New York Giants</td>\n",
       "      <td>American Football</td>\n",
       "      <td>United States</td>\n",
       "      <td>3.10</td>\n",
       "      <td>2017</td>\n",
       "    </tr>\n",
       "    <tr>\n",
       "      <th>8</th>\n",
       "      <td>9.0</td>\n",
       "      <td>Los Angeles Lakers</td>\n",
       "      <td>Basketball</td>\n",
       "      <td>United States</td>\n",
       "      <td>3.00</td>\n",
       "      <td>2017</td>\n",
       "    </tr>\n",
       "    <tr>\n",
       "      <th>9</th>\n",
       "      <td>9.0</td>\n",
       "      <td>San Francisco 49ers</td>\n",
       "      <td>American Football</td>\n",
       "      <td>United States</td>\n",
       "      <td>3.00</td>\n",
       "      <td>2017</td>\n",
       "    </tr>\n",
       "  </tbody>\n",
       "</table>\n",
       "</div>"
      ],
      "text/plain": [
       "   Rang                   Ime              Sport         Drzava  Vrednost  \\\n",
       "0   1.0        Dallas Cowboys  American Football  United States      4.20   \n",
       "1   2.0      New York Yankees           Baseball  United States      3.70   \n",
       "2   3.0     Manchester United           Football        England      3.69   \n",
       "3   4.0             Barcelona           Football          Spain      3.64   \n",
       "4   5.0           Real Madrid           Football          Spain      3.58   \n",
       "5   6.0  New England Patriots  American Football  United States      3.40   \n",
       "6   7.0       New York Knicks         Basketball  United States      3.30   \n",
       "7   8.0       New York Giants  American Football  United States      3.10   \n",
       "8   9.0    Los Angeles Lakers         Basketball  United States      3.00   \n",
       "9   9.0   San Francisco 49ers  American Football  United States      3.00   \n",
       "\n",
       "   Leto  \n",
       "0  2017  \n",
       "1  2017  \n",
       "2  2017  \n",
       "3  2017  \n",
       "4  2017  \n",
       "5  2017  \n",
       "6  2017  \n",
       "7  2017  \n",
       "8  2017  \n",
       "9  2017  "
      ]
     },
     "execution_count": 90,
     "metadata": {},
     "output_type": "execute_result"
    }
   ],
   "source": [
    "tabela.head(10)"
   ]
  },
  {
   "cell_type": "code",
   "execution_count": 91,
   "metadata": {},
   "outputs": [],
   "source": [
    "tabela_pogodb = pd.read_csv('Pogodbe.csv', encoding = 'latin1')"
   ]
  },
  {
   "cell_type": "markdown",
   "metadata": {},
   "source": [
    "Nato sem z wikipedije pobral podatke za najdražje pogodbe v zgodovini športa, jih spremenil v csv obliko in jih uvozil sem za nadaljno analizo. Spodaj je prikazana glava tabele. Stolpci so sestavljeni iz ranka, imena igralca, kluba pri katerem je igralec sklenil pogodbo, športa, celotna vrednost pogodbe (niso vse pogodbe sklenjene za isto število let) in še vrednost pogodbe na leto. "
   ]
  },
  {
   "cell_type": "code",
   "execution_count": 92,
   "metadata": {},
   "outputs": [
    {
     "data": {
      "text/html": [
       "<div>\n",
       "<style scoped>\n",
       "    .dataframe tbody tr th:only-of-type {\n",
       "        vertical-align: middle;\n",
       "    }\n",
       "\n",
       "    .dataframe tbody tr th {\n",
       "        vertical-align: top;\n",
       "    }\n",
       "\n",
       "    .dataframe thead th {\n",
       "        text-align: right;\n",
       "    }\n",
       "</style>\n",
       "<table border=\"1\" class=\"dataframe\">\n",
       "  <thead>\n",
       "    <tr style=\"text-align: right;\">\n",
       "      <th></th>\n",
       "      <th>Rank</th>\n",
       "      <th>Ime</th>\n",
       "      <th>Klub</th>\n",
       "      <th>Sport</th>\n",
       "      <th>Vrednost_pogodbe</th>\n",
       "      <th>Vrednost_pogodbe_letno</th>\n",
       "    </tr>\n",
       "  </thead>\n",
       "  <tbody>\n",
       "    <tr>\n",
       "      <th>0</th>\n",
       "      <td>1</td>\n",
       "      <td>Giancarlo Stanton</td>\n",
       "      <td>Miami Marlins</td>\n",
       "      <td>Baseball</td>\n",
       "      <td>325000000</td>\n",
       "      <td>25000000</td>\n",
       "    </tr>\n",
       "    <tr>\n",
       "      <th>1</th>\n",
       "      <td>2</td>\n",
       "      <td>Alex Rodriguez</td>\n",
       "      <td>New York Yankees</td>\n",
       "      <td>Baseball</td>\n",
       "      <td>275000000</td>\n",
       "      <td>27500000</td>\n",
       "    </tr>\n",
       "    <tr>\n",
       "      <th>2</th>\n",
       "      <td>3</td>\n",
       "      <td>Neymar</td>\n",
       "      <td>Paris Saint Germain</td>\n",
       "      <td>Association football</td>\n",
       "      <td>270000000</td>\n",
       "      <td>54000000</td>\n",
       "    </tr>\n",
       "    <tr>\n",
       "      <th>3</th>\n",
       "      <td>4</td>\n",
       "      <td>Alex Rodriguez</td>\n",
       "      <td>Texas Rangers</td>\n",
       "      <td>Baseball</td>\n",
       "      <td>252000000</td>\n",
       "      <td>25200000</td>\n",
       "    </tr>\n",
       "    <tr>\n",
       "      <th>4</th>\n",
       "      <td>5</td>\n",
       "      <td>Miguel Cabrera</td>\n",
       "      <td>Detroit Tigers</td>\n",
       "      <td>Baseball</td>\n",
       "      <td>248000000</td>\n",
       "      <td>31000000</td>\n",
       "    </tr>\n",
       "    <tr>\n",
       "      <th>5</th>\n",
       "      <td>6</td>\n",
       "      <td>Robinson Cano</td>\n",
       "      <td>Seattle Mariners</td>\n",
       "      <td>Baseball</td>\n",
       "      <td>240000000</td>\n",
       "      <td>24000000</td>\n",
       "    </tr>\n",
       "    <tr>\n",
       "      <th>6</th>\n",
       "      <td>6</td>\n",
       "      <td>Albert Pujols</td>\n",
       "      <td>Los Angeles Angels</td>\n",
       "      <td>Baseball</td>\n",
       "      <td>240000000</td>\n",
       "      <td>24000000</td>\n",
       "    </tr>\n",
       "    <tr>\n",
       "      <th>7</th>\n",
       "      <td>7</td>\n",
       "      <td>James Harden</td>\n",
       "      <td>Houston Rockets</td>\n",
       "      <td>Basketball</td>\n",
       "      <td>228000000</td>\n",
       "      <td>38000000</td>\n",
       "    </tr>\n",
       "    <tr>\n",
       "      <th>8</th>\n",
       "      <td>8</td>\n",
       "      <td>Joey Votto</td>\n",
       "      <td>Cincinnati Reds</td>\n",
       "      <td>Baseball</td>\n",
       "      <td>225000000</td>\n",
       "      <td>22500000</td>\n",
       "    </tr>\n",
       "    <tr>\n",
       "      <th>9</th>\n",
       "      <td>8</td>\n",
       "      <td>David Price</td>\n",
       "      <td>Boston Red Sox</td>\n",
       "      <td>Baseball</td>\n",
       "      <td>217000000</td>\n",
       "      <td>31000000</td>\n",
       "    </tr>\n",
       "  </tbody>\n",
       "</table>\n",
       "</div>"
      ],
      "text/plain": [
       "   Rank                Ime                 Klub                 Sport  \\\n",
       "0     1  Giancarlo Stanton        Miami Marlins              Baseball   \n",
       "1     2     Alex Rodriguez     New York Yankees              Baseball   \n",
       "2     3             Neymar  Paris Saint Germain  Association football   \n",
       "3     4     Alex Rodriguez        Texas Rangers              Baseball   \n",
       "4     5     Miguel Cabrera       Detroit Tigers              Baseball   \n",
       "5     6      Robinson Cano     Seattle Mariners              Baseball   \n",
       "6     6      Albert Pujols   Los Angeles Angels              Baseball   \n",
       "7     7       James Harden      Houston Rockets            Basketball   \n",
       "8     8         Joey Votto      Cincinnati Reds              Baseball   \n",
       "9     8        David Price       Boston Red Sox              Baseball   \n",
       "\n",
       "   Vrednost_pogodbe  Vrednost_pogodbe_letno  \n",
       "0         325000000                25000000  \n",
       "1         275000000                27500000  \n",
       "2         270000000                54000000  \n",
       "3         252000000                25200000  \n",
       "4         248000000                31000000  \n",
       "5         240000000                24000000  \n",
       "6         240000000                24000000  \n",
       "7         228000000                38000000  \n",
       "8         225000000                22500000  \n",
       "9         217000000                31000000  "
      ]
     },
     "execution_count": 92,
     "metadata": {},
     "output_type": "execute_result"
    }
   ],
   "source": [
    "tabela_pogodb.head(10)"
   ]
  },
  {
   "cell_type": "markdown",
   "metadata": {},
   "source": [
    "## Analiza podatkov"
   ]
  },
  {
   "cell_type": "markdown",
   "metadata": {},
   "source": [
    "### Analiza vseh podatkov"
   ]
  },
  {
   "cell_type": "markdown",
   "metadata": {},
   "source": [
    "Za začetek sem hotel dobiti občutek za podatke. Pogledal sem kateri športi se največkrat pojavijo v Forbesovi listi najboljših klubov."
   ]
  },
  {
   "cell_type": "code",
   "execution_count": 93,
   "metadata": {},
   "outputs": [],
   "source": [
    "klubi_po_sportu = tabela.groupby('Sport')"
   ]
  },
  {
   "cell_type": "code",
   "execution_count": 94,
   "metadata": {},
   "outputs": [
    {
     "data": {
      "text/html": [
       "<div>\n",
       "<style scoped>\n",
       "    .dataframe tbody tr th:only-of-type {\n",
       "        vertical-align: middle;\n",
       "    }\n",
       "\n",
       "    .dataframe tbody tr th {\n",
       "        vertical-align: top;\n",
       "    }\n",
       "\n",
       "    .dataframe thead th {\n",
       "        text-align: right;\n",
       "    }\n",
       "</style>\n",
       "<table border=\"1\" class=\"dataframe\">\n",
       "  <thead>\n",
       "    <tr style=\"text-align: right;\">\n",
       "      <th></th>\n",
       "      <th>Rang</th>\n",
       "      <th>Ime</th>\n",
       "      <th>Drzava</th>\n",
       "      <th>Vrednost</th>\n",
       "      <th>Leto</th>\n",
       "    </tr>\n",
       "    <tr>\n",
       "      <th>Sport</th>\n",
       "      <th></th>\n",
       "      <th></th>\n",
       "      <th></th>\n",
       "      <th></th>\n",
       "      <th></th>\n",
       "    </tr>\n",
       "  </thead>\n",
       "  <tbody>\n",
       "    <tr>\n",
       "      <th>American Football</th>\n",
       "      <td>61</td>\n",
       "      <td>61</td>\n",
       "      <td>61</td>\n",
       "      <td>61</td>\n",
       "      <td>61</td>\n",
       "    </tr>\n",
       "    <tr>\n",
       "      <th>Baseball</th>\n",
       "      <td>19</td>\n",
       "      <td>19</td>\n",
       "      <td>19</td>\n",
       "      <td>19</td>\n",
       "      <td>19</td>\n",
       "    </tr>\n",
       "    <tr>\n",
       "      <th>Basketball</th>\n",
       "      <td>11</td>\n",
       "      <td>11</td>\n",
       "      <td>11</td>\n",
       "      <td>11</td>\n",
       "      <td>11</td>\n",
       "    </tr>\n",
       "    <tr>\n",
       "      <th>Football</th>\n",
       "      <td>31</td>\n",
       "      <td>31</td>\n",
       "      <td>31</td>\n",
       "      <td>31</td>\n",
       "      <td>31</td>\n",
       "    </tr>\n",
       "  </tbody>\n",
       "</table>\n",
       "</div>"
      ],
      "text/plain": [
       "                   Rang  Ime  Drzava  Vrednost  Leto\n",
       "Sport                                               \n",
       "American Football    61   61      61        61    61\n",
       "Baseball             19   19      19        19    19\n",
       "Basketball           11   11      11        11    11\n",
       "Football             31   31      31        31    31"
      ]
     },
     "execution_count": 94,
     "metadata": {},
     "output_type": "execute_result"
    }
   ],
   "source": [
    "klubi_po_sportu.count()"
   ]
  },
  {
   "cell_type": "markdown",
   "metadata": {},
   "source": [
    "Močno prevladuje ameriški nogomet, nato nogomet, baseball, zadnja pa je košarka. To je zelo površna analiza, vendar se razlikuje od mojih pričakovanj, pred analizo sem bil namreč prepričan, da so nogometni klubi tisti, ki bodo daleč največ vredni. Potrebno pa se je zavedati, da je za leto 2017 petdeset podatkov, za ostala leta pa le 10. Zato bom v nadaljni analizi naredil dodatno tabelo, kjer bom tudi za leto 2017 vzel le prvih 10 in ponovil tole hitro analizo, občutek imam, da bi podatki lahko obrnili v prid nogometa. "
   ]
  },
  {
   "cell_type": "markdown",
   "metadata": {},
   "source": [
    "Nato me je zanimalo katere države so tiste, ki imajo največ \"najboljših\" klubov. "
   ]
  },
  {
   "cell_type": "code",
   "execution_count": 95,
   "metadata": {},
   "outputs": [],
   "source": [
    "klubi_po_drzavah = tabela.groupby('Drzava')"
   ]
  },
  {
   "cell_type": "code",
   "execution_count": 96,
   "metadata": {},
   "outputs": [
    {
     "data": {
      "text/html": [
       "<div>\n",
       "<style scoped>\n",
       "    .dataframe tbody tr th:only-of-type {\n",
       "        vertical-align: middle;\n",
       "    }\n",
       "\n",
       "    .dataframe tbody tr th {\n",
       "        vertical-align: top;\n",
       "    }\n",
       "\n",
       "    .dataframe thead th {\n",
       "        text-align: right;\n",
       "    }\n",
       "</style>\n",
       "<table border=\"1\" class=\"dataframe\">\n",
       "  <thead>\n",
       "    <tr style=\"text-align: right;\">\n",
       "      <th></th>\n",
       "      <th>Rang</th>\n",
       "      <th>Ime</th>\n",
       "      <th>Sport</th>\n",
       "      <th>Vrednost</th>\n",
       "      <th>Leto</th>\n",
       "    </tr>\n",
       "    <tr>\n",
       "      <th>Drzava</th>\n",
       "      <th></th>\n",
       "      <th></th>\n",
       "      <th></th>\n",
       "      <th></th>\n",
       "      <th></th>\n",
       "    </tr>\n",
       "  </thead>\n",
       "  <tbody>\n",
       "    <tr>\n",
       "      <th>England</th>\n",
       "      <td>15</td>\n",
       "      <td>15</td>\n",
       "      <td>15</td>\n",
       "      <td>15</td>\n",
       "      <td>15</td>\n",
       "    </tr>\n",
       "    <tr>\n",
       "      <th>Germany</th>\n",
       "      <td>2</td>\n",
       "      <td>2</td>\n",
       "      <td>2</td>\n",
       "      <td>2</td>\n",
       "      <td>2</td>\n",
       "    </tr>\n",
       "    <tr>\n",
       "      <th>Spain</th>\n",
       "      <td>14</td>\n",
       "      <td>14</td>\n",
       "      <td>14</td>\n",
       "      <td>14</td>\n",
       "      <td>14</td>\n",
       "    </tr>\n",
       "    <tr>\n",
       "      <th>United States</th>\n",
       "      <td>91</td>\n",
       "      <td>91</td>\n",
       "      <td>91</td>\n",
       "      <td>91</td>\n",
       "      <td>91</td>\n",
       "    </tr>\n",
       "  </tbody>\n",
       "</table>\n",
       "</div>"
      ],
      "text/plain": [
       "               Rang  Ime  Sport  Vrednost  Leto\n",
       "Drzava                                         \n",
       "England          15   15     15        15    15\n",
       "Germany           2    2      2         2     2\n",
       "Spain            14   14     14        14    14\n",
       "United States    91   91     91        91    91"
      ]
     },
     "execution_count": 96,
     "metadata": {},
     "output_type": "execute_result"
    }
   ],
   "source": [
    "klubi_po_drzavah.count()"
   ]
  },
  {
   "cell_type": "markdown",
   "metadata": {},
   "source": [
    "Podatki niso presenetljivi. Daleč pred vsemi je ZDA. Tako ameriški nogomet, baseball in košarka ima večino dobrih klubov prav tam. Predvidevam, da so Angleški, Nemški in pa Španski klubi predvsem nogometni klubi, kar bom v nadaljni analizi tudi preveril."
   ]
  },
  {
   "cell_type": "code",
   "execution_count": 97,
   "metadata": {},
   "outputs": [],
   "source": [
    "sporti_v_evropskih_drzavah = tabela[( tabela.Drzava=='England')].groupby('Sport')"
   ]
  },
  {
   "cell_type": "code",
   "execution_count": 98,
   "metadata": {},
   "outputs": [
    {
     "data": {
      "text/html": [
       "<div>\n",
       "<style scoped>\n",
       "    .dataframe tbody tr th:only-of-type {\n",
       "        vertical-align: middle;\n",
       "    }\n",
       "\n",
       "    .dataframe tbody tr th {\n",
       "        vertical-align: top;\n",
       "    }\n",
       "\n",
       "    .dataframe thead th {\n",
       "        text-align: right;\n",
       "    }\n",
       "</style>\n",
       "<table border=\"1\" class=\"dataframe\">\n",
       "  <thead>\n",
       "    <tr style=\"text-align: right;\">\n",
       "      <th></th>\n",
       "      <th>Rang</th>\n",
       "      <th>Ime</th>\n",
       "      <th>Drzava</th>\n",
       "      <th>Vrednost</th>\n",
       "      <th>Leto</th>\n",
       "    </tr>\n",
       "    <tr>\n",
       "      <th>Sport</th>\n",
       "      <th></th>\n",
       "      <th></th>\n",
       "      <th></th>\n",
       "      <th></th>\n",
       "      <th></th>\n",
       "    </tr>\n",
       "  </thead>\n",
       "  <tbody>\n",
       "    <tr>\n",
       "      <th>Football</th>\n",
       "      <td>15</td>\n",
       "      <td>15</td>\n",
       "      <td>15</td>\n",
       "      <td>15</td>\n",
       "      <td>15</td>\n",
       "    </tr>\n",
       "  </tbody>\n",
       "</table>\n",
       "</div>"
      ],
      "text/plain": [
       "          Rang  Ime  Drzava  Vrednost  Leto\n",
       "Sport                                      \n",
       "Football    15   15      15        15    15"
      ]
     },
     "execution_count": 98,
     "metadata": {},
     "output_type": "execute_result"
    }
   ],
   "source": [
    "sporti_v_evropskih_drzavah.count()"
   ]
  },
  {
   "cell_type": "markdown",
   "metadata": {},
   "source": [
    "Hitro sem preveril za Anglijo, Nemčijo in Španijo in moje predpostavke so bile pravilne. Ne samo da prevladuje nogomet, je tudi edini šport iz evrope, ki se je uvrstil v Forbesovo listo. Ker sem tudi sam prebivalec Evrope sem zato živel v \"zmoti\", da to drži za celotni svet. "
   ]
  },
  {
   "cell_type": "markdown",
   "metadata": {},
   "source": [
    "Zanima pa me tudi kateri klubi so tisti, ki so se največkrat znašli v Forbesovi listi. "
   ]
  },
  {
   "cell_type": "code",
   "execution_count": 99,
   "metadata": {},
   "outputs": [],
   "source": [
    "najboljsi_klubi = tabela.groupby('Ime')"
   ]
  },
  {
   "cell_type": "code",
   "execution_count": 100,
   "metadata": {},
   "outputs": [
    {
     "data": {
      "text/plain": [
       "Ime\n",
       "Washington Redskins     8\n",
       "Real Madrid             8\n",
       "Dallas Cowboys          8\n",
       "Manchester United       8\n",
       "New England Patriots    8\n",
       "New York Yankees        8\n",
       "New York Giants         7\n",
       "Barcelona               6\n",
       "Arsenal                 5\n",
       "Los Angeles Dodgers     5\n",
       "Name: Leto, dtype: int64"
      ]
     },
     "execution_count": 100,
     "metadata": {},
     "output_type": "execute_result"
    }
   ],
   "source": [
    "najboljsi_klubi.Leto.count().sort_values(ascending=False).head(10)"
   ]
  },
  {
   "cell_type": "markdown",
   "metadata": {},
   "source": [
    "Sortiral sem podatke in izbral najboljših 10 klubov od leta 2010, torej tistih klubov, ki so se največkrat znašli na Forbesovi listi od takrat naprej. Kot ste velikokrat povedali je pomembno, da analiziramo podatke katere vsaj malo poznamo. Sam sem namreč privrženec Arsenala, angleški nogometni klub, in dobro vem, da niso osvojili nič kaj presenetljivega v zadnjih skoraj 15 letih, vseeno pa so se kar 5krat znašli med najboljšimi klubi in to ne samo v nogometu. Torej klubi niso ocenjeni samo po njihovem trenutnem uspehu temveč tudi po zgodovini, marketingu, sponzorjih,... Pomembno je pripomniti, da tukaj še vedno delam s podatki, kjer je za leto 2017 50 klubov. Če pokomentiram še ostale podatke. Real Madrid, Barcelona in Manchester United so nogometni velikani in tukaj ni nič presenetljivega. Imamo velikane iz Ameriškega nogometa in Baseballa, presenečen sem nad dejstvom, da ni nobenega predstavnika košarke."
   ]
  },
  {
   "cell_type": "code",
   "execution_count": 101,
   "metadata": {},
   "outputs": [],
   "source": [
    "pogodbe_po_sportu = tabela_pogodb.groupby('Sport')"
   ]
  },
  {
   "cell_type": "code",
   "execution_count": 102,
   "metadata": {},
   "outputs": [
    {
     "data": {
      "text/html": [
       "<div>\n",
       "<style scoped>\n",
       "    .dataframe tbody tr th:only-of-type {\n",
       "        vertical-align: middle;\n",
       "    }\n",
       "\n",
       "    .dataframe tbody tr th {\n",
       "        vertical-align: top;\n",
       "    }\n",
       "\n",
       "    .dataframe thead th {\n",
       "        text-align: right;\n",
       "    }\n",
       "</style>\n",
       "<table border=\"1\" class=\"dataframe\">\n",
       "  <thead>\n",
       "    <tr style=\"text-align: right;\">\n",
       "      <th></th>\n",
       "      <th>Rank</th>\n",
       "      <th>Ime</th>\n",
       "      <th>Klub</th>\n",
       "      <th>Vrednost_pogodbe</th>\n",
       "      <th>Vrednost_pogodbe_letno</th>\n",
       "    </tr>\n",
       "    <tr>\n",
       "      <th>Sport</th>\n",
       "      <th></th>\n",
       "      <th></th>\n",
       "      <th></th>\n",
       "      <th></th>\n",
       "      <th></th>\n",
       "    </tr>\n",
       "  </thead>\n",
       "  <tbody>\n",
       "    <tr>\n",
       "      <th>Baseball</th>\n",
       "      <td>60</td>\n",
       "      <td>60</td>\n",
       "      <td>60</td>\n",
       "      <td>60</td>\n",
       "      <td>60</td>\n",
       "    </tr>\n",
       "    <tr>\n",
       "      <th>Basketball</th>\n",
       "      <td>37</td>\n",
       "      <td>37</td>\n",
       "      <td>37</td>\n",
       "      <td>37</td>\n",
       "      <td>37</td>\n",
       "    </tr>\n",
       "    <tr>\n",
       "      <th>American football</th>\n",
       "      <td>21</td>\n",
       "      <td>21</td>\n",
       "      <td>21</td>\n",
       "      <td>21</td>\n",
       "      <td>21</td>\n",
       "    </tr>\n",
       "    <tr>\n",
       "      <th>Association football</th>\n",
       "      <td>4</td>\n",
       "      <td>4</td>\n",
       "      <td>4</td>\n",
       "      <td>4</td>\n",
       "      <td>4</td>\n",
       "    </tr>\n",
       "    <tr>\n",
       "      <th>Auto racing</th>\n",
       "      <td>3</td>\n",
       "      <td>3</td>\n",
       "      <td>3</td>\n",
       "      <td>3</td>\n",
       "      <td>3</td>\n",
       "    </tr>\n",
       "    <tr>\n",
       "      <th>Hockey</th>\n",
       "      <td>3</td>\n",
       "      <td>3</td>\n",
       "      <td>3</td>\n",
       "      <td>3</td>\n",
       "      <td>3</td>\n",
       "    </tr>\n",
       "    <tr>\n",
       "      <th>Boxing</th>\n",
       "      <td>1</td>\n",
       "      <td>1</td>\n",
       "      <td>1</td>\n",
       "      <td>1</td>\n",
       "      <td>1</td>\n",
       "    </tr>\n",
       "  </tbody>\n",
       "</table>\n",
       "</div>"
      ],
      "text/plain": [
       "                      Rank  Ime  Klub  Vrednost_pogodbe  \\\n",
       "Sport                                                     \n",
       "Baseball                60   60    60                60   \n",
       "Basketball              37   37    37                37   \n",
       "American football       21   21    21                21   \n",
       "Association football     4    4     4                 4   \n",
       "Auto racing              3    3     3                 3   \n",
       "Hockey                   3    3     3                 3   \n",
       "Boxing                   1    1     1                 1   \n",
       "\n",
       "                      Vrednost_pogodbe_letno  \n",
       "Sport                                         \n",
       "Baseball                                  60  \n",
       "Basketball                                37  \n",
       "American football                         21  \n",
       "Association football                       4  \n",
       "Auto racing                                3  \n",
       "Hockey                                     3  \n",
       "Boxing                                     1  "
      ]
     },
     "execution_count": 102,
     "metadata": {},
     "output_type": "execute_result"
    }
   ],
   "source": [
    "pogodbe_po_sportu.count().sort_values('Ime', ascending= False)"
   ]
  },
  {
   "cell_type": "markdown",
   "metadata": {},
   "source": [
    "Preveril sem (na vseh podatkih) kateri športi se največkrat pojavijo med najdražjimi pogodbami. Zanimivo je, da je košarka na drugem mestu, v Forbesovi listi pa so se košarkaški klubi \"slabo\" uvrstili glede na druge športe. Daleč pred vsemi je Baseball. "
   ]
  },
  {
   "cell_type": "markdown",
   "metadata": {},
   "source": [
    "### Analiza podatkov \"TOP10\" "
   ]
  },
  {
   "cell_type": "markdown",
   "metadata": {},
   "source": [
    "Kot rečeno zgoraj sem analiziral podatke iz Forbesove liste na malo neroden način. Za leto 2017 sem imel namreč 50 podatkov za ostala leta pa le 10, zato bom sedaj naredil novo tabelo kjer bo za vsako leto 10 podatkov. "
   ]
  },
  {
   "cell_type": "code",
   "execution_count": 103,
   "metadata": {},
   "outputs": [],
   "source": [
    "Forbes_deset = tabela.drop(tabela.index[10:51])"
   ]
  },
  {
   "cell_type": "code",
   "execution_count": 104,
   "metadata": {},
   "outputs": [
    {
     "data": {
      "text/html": [
       "<div>\n",
       "<style scoped>\n",
       "    .dataframe tbody tr th:only-of-type {\n",
       "        vertical-align: middle;\n",
       "    }\n",
       "\n",
       "    .dataframe tbody tr th {\n",
       "        vertical-align: top;\n",
       "    }\n",
       "\n",
       "    .dataframe thead th {\n",
       "        text-align: right;\n",
       "    }\n",
       "</style>\n",
       "<table border=\"1\" class=\"dataframe\">\n",
       "  <thead>\n",
       "    <tr style=\"text-align: right;\">\n",
       "      <th></th>\n",
       "      <th>Rang</th>\n",
       "      <th>Ime</th>\n",
       "      <th>Sport</th>\n",
       "      <th>Drzava</th>\n",
       "      <th>Vrednost</th>\n",
       "      <th>Leto</th>\n",
       "    </tr>\n",
       "  </thead>\n",
       "  <tbody>\n",
       "    <tr>\n",
       "      <th>51</th>\n",
       "      <td>1.0</td>\n",
       "      <td>Manchester United</td>\n",
       "      <td>Football</td>\n",
       "      <td>England</td>\n",
       "      <td>1.83</td>\n",
       "      <td>2010</td>\n",
       "    </tr>\n",
       "    <tr>\n",
       "      <th>52</th>\n",
       "      <td>2.0</td>\n",
       "      <td>Dallas Cowboys</td>\n",
       "      <td>American Football</td>\n",
       "      <td>United States</td>\n",
       "      <td>1.65</td>\n",
       "      <td>2010</td>\n",
       "    </tr>\n",
       "    <tr>\n",
       "      <th>53</th>\n",
       "      <td>3.0</td>\n",
       "      <td>New York Yankees</td>\n",
       "      <td>Baseball</td>\n",
       "      <td>United States</td>\n",
       "      <td>1.60</td>\n",
       "      <td>2010</td>\n",
       "    </tr>\n",
       "    <tr>\n",
       "      <th>54</th>\n",
       "      <td>4.0</td>\n",
       "      <td>Washington Redskins</td>\n",
       "      <td>American Football</td>\n",
       "      <td>United States</td>\n",
       "      <td>1.55</td>\n",
       "      <td>2010</td>\n",
       "    </tr>\n",
       "    <tr>\n",
       "      <th>55</th>\n",
       "      <td>5.0</td>\n",
       "      <td>New England Patriots</td>\n",
       "      <td>American Football</td>\n",
       "      <td>United States</td>\n",
       "      <td>1.36</td>\n",
       "      <td>2010</td>\n",
       "    </tr>\n",
       "    <tr>\n",
       "      <th>56</th>\n",
       "      <td>6.0</td>\n",
       "      <td>Real Madrid</td>\n",
       "      <td>Football</td>\n",
       "      <td>Spain</td>\n",
       "      <td>1.32</td>\n",
       "      <td>2010</td>\n",
       "    </tr>\n",
       "    <tr>\n",
       "      <th>57</th>\n",
       "      <td>7.0</td>\n",
       "      <td>New York Giants</td>\n",
       "      <td>American Football</td>\n",
       "      <td>United States</td>\n",
       "      <td>1.18</td>\n",
       "      <td>2010</td>\n",
       "    </tr>\n",
       "    <tr>\n",
       "      <th>58</th>\n",
       "      <td>8.0</td>\n",
       "      <td>Arsenal</td>\n",
       "      <td>Football</td>\n",
       "      <td>England</td>\n",
       "      <td>1.18</td>\n",
       "      <td>2010</td>\n",
       "    </tr>\n",
       "    <tr>\n",
       "      <th>59</th>\n",
       "      <td>9.0</td>\n",
       "      <td>New York Jets</td>\n",
       "      <td>American Football</td>\n",
       "      <td>United States</td>\n",
       "      <td>1.17</td>\n",
       "      <td>2010</td>\n",
       "    </tr>\n",
       "    <tr>\n",
       "      <th>60</th>\n",
       "      <td>10.0</td>\n",
       "      <td>Houston Texans</td>\n",
       "      <td>American Football</td>\n",
       "      <td>United States</td>\n",
       "      <td>1.15</td>\n",
       "      <td>2010</td>\n",
       "    </tr>\n",
       "    <tr>\n",
       "      <th>61</th>\n",
       "      <td>1.0</td>\n",
       "      <td>Manchester United</td>\n",
       "      <td>Football</td>\n",
       "      <td>England</td>\n",
       "      <td>1.86</td>\n",
       "      <td>2011</td>\n",
       "    </tr>\n",
       "    <tr>\n",
       "      <th>62</th>\n",
       "      <td>2.0</td>\n",
       "      <td>Dallas Cowboys</td>\n",
       "      <td>American Football</td>\n",
       "      <td>United States</td>\n",
       "      <td>1.81</td>\n",
       "      <td>2011</td>\n",
       "    </tr>\n",
       "    <tr>\n",
       "      <th>63</th>\n",
       "      <td>3.0</td>\n",
       "      <td>New York Yankees</td>\n",
       "      <td>Baseball</td>\n",
       "      <td>United States</td>\n",
       "      <td>1.70</td>\n",
       "      <td>2011</td>\n",
       "    </tr>\n",
       "    <tr>\n",
       "      <th>64</th>\n",
       "      <td>4.0</td>\n",
       "      <td>Washington Redskins</td>\n",
       "      <td>American Football</td>\n",
       "      <td>United States</td>\n",
       "      <td>1.55</td>\n",
       "      <td>2011</td>\n",
       "    </tr>\n",
       "    <tr>\n",
       "      <th>65</th>\n",
       "      <td>5.0</td>\n",
       "      <td>Real Madrid</td>\n",
       "      <td>Football</td>\n",
       "      <td>Spain</td>\n",
       "      <td>1.45</td>\n",
       "      <td>2011</td>\n",
       "    </tr>\n",
       "    <tr>\n",
       "      <th>66</th>\n",
       "      <td>6.0</td>\n",
       "      <td>New England Patriots</td>\n",
       "      <td>American Football</td>\n",
       "      <td>United States</td>\n",
       "      <td>1.37</td>\n",
       "      <td>2011</td>\n",
       "    </tr>\n",
       "    <tr>\n",
       "      <th>67</th>\n",
       "      <td>7.0</td>\n",
       "      <td>Arsenal</td>\n",
       "      <td>Football</td>\n",
       "      <td>England</td>\n",
       "      <td>1.19</td>\n",
       "      <td>2011</td>\n",
       "    </tr>\n",
       "    <tr>\n",
       "      <th>68</th>\n",
       "      <td>8.0</td>\n",
       "      <td>New York Giants</td>\n",
       "      <td>American Football</td>\n",
       "      <td>United States</td>\n",
       "      <td>1.18</td>\n",
       "      <td>2011</td>\n",
       "    </tr>\n",
       "    <tr>\n",
       "      <th>69</th>\n",
       "      <td>9.0</td>\n",
       "      <td>Houston Texans</td>\n",
       "      <td>American Football</td>\n",
       "      <td>United States</td>\n",
       "      <td>1.17</td>\n",
       "      <td>2011</td>\n",
       "    </tr>\n",
       "    <tr>\n",
       "      <th>70</th>\n",
       "      <td>10.0</td>\n",
       "      <td>New York Jets</td>\n",
       "      <td>American Football</td>\n",
       "      <td>United States</td>\n",
       "      <td>1.14</td>\n",
       "      <td>2011</td>\n",
       "    </tr>\n",
       "    <tr>\n",
       "      <th>71</th>\n",
       "      <td>1.0</td>\n",
       "      <td>Manchester United</td>\n",
       "      <td>Football</td>\n",
       "      <td>England</td>\n",
       "      <td>2.23</td>\n",
       "      <td>2012</td>\n",
       "    </tr>\n",
       "    <tr>\n",
       "      <th>72</th>\n",
       "      <td>2.0</td>\n",
       "      <td>Real Madrid</td>\n",
       "      <td>Football</td>\n",
       "      <td>Spain</td>\n",
       "      <td>1.88</td>\n",
       "      <td>2012</td>\n",
       "    </tr>\n",
       "    <tr>\n",
       "      <th>73</th>\n",
       "      <td>3.0</td>\n",
       "      <td>New York Yankees</td>\n",
       "      <td>Baseball</td>\n",
       "      <td>United States</td>\n",
       "      <td>1.85</td>\n",
       "      <td>2012</td>\n",
       "    </tr>\n",
       "    <tr>\n",
       "      <th>74</th>\n",
       "      <td>3.0</td>\n",
       "      <td>Dallas Cowboys</td>\n",
       "      <td>American Football</td>\n",
       "      <td>United States</td>\n",
       "      <td>1.85</td>\n",
       "      <td>2012</td>\n",
       "    </tr>\n",
       "    <tr>\n",
       "      <th>75</th>\n",
       "      <td>5.0</td>\n",
       "      <td>Washington Redskins</td>\n",
       "      <td>American Football</td>\n",
       "      <td>United States</td>\n",
       "      <td>1.56</td>\n",
       "      <td>2012</td>\n",
       "    </tr>\n",
       "    <tr>\n",
       "      <th>76</th>\n",
       "      <td>6.0</td>\n",
       "      <td>Los Angeles Dodgers</td>\n",
       "      <td>Baseball</td>\n",
       "      <td>United States</td>\n",
       "      <td>1.40</td>\n",
       "      <td>2012</td>\n",
       "    </tr>\n",
       "    <tr>\n",
       "      <th>77</th>\n",
       "      <td>6.0</td>\n",
       "      <td>New England Patriots</td>\n",
       "      <td>American Football</td>\n",
       "      <td>United States</td>\n",
       "      <td>1.40</td>\n",
       "      <td>2012</td>\n",
       "    </tr>\n",
       "    <tr>\n",
       "      <th>78</th>\n",
       "      <td>8.0</td>\n",
       "      <td>Barcelona</td>\n",
       "      <td>Football</td>\n",
       "      <td>Spain</td>\n",
       "      <td>1.31</td>\n",
       "      <td>2012</td>\n",
       "    </tr>\n",
       "    <tr>\n",
       "      <th>79</th>\n",
       "      <td>9.0</td>\n",
       "      <td>New York Giants</td>\n",
       "      <td>American Football</td>\n",
       "      <td>United States</td>\n",
       "      <td>1.30</td>\n",
       "      <td>2012</td>\n",
       "    </tr>\n",
       "    <tr>\n",
       "      <th>80</th>\n",
       "      <td>10.0</td>\n",
       "      <td>Arsenal</td>\n",
       "      <td>Football</td>\n",
       "      <td>England</td>\n",
       "      <td>1.29</td>\n",
       "      <td>2012</td>\n",
       "    </tr>\n",
       "    <tr>\n",
       "      <th>...</th>\n",
       "      <td>...</td>\n",
       "      <td>...</td>\n",
       "      <td>...</td>\n",
       "      <td>...</td>\n",
       "      <td>...</td>\n",
       "      <td>...</td>\n",
       "    </tr>\n",
       "    <tr>\n",
       "      <th>102</th>\n",
       "      <td>2.0</td>\n",
       "      <td>Dallas Cowboys</td>\n",
       "      <td>American Football</td>\n",
       "      <td>United States</td>\n",
       "      <td>3.20</td>\n",
       "      <td>2015</td>\n",
       "    </tr>\n",
       "    <tr>\n",
       "      <th>103</th>\n",
       "      <td>2.0</td>\n",
       "      <td>New York Yankees</td>\n",
       "      <td>Baseball</td>\n",
       "      <td>United States</td>\n",
       "      <td>3.20</td>\n",
       "      <td>2015</td>\n",
       "    </tr>\n",
       "    <tr>\n",
       "      <th>104</th>\n",
       "      <td>4.0</td>\n",
       "      <td>Barcelona</td>\n",
       "      <td>Football</td>\n",
       "      <td>Spain</td>\n",
       "      <td>3.16</td>\n",
       "      <td>2015</td>\n",
       "    </tr>\n",
       "    <tr>\n",
       "      <th>105</th>\n",
       "      <td>5.0</td>\n",
       "      <td>Manchester United</td>\n",
       "      <td>Football</td>\n",
       "      <td>England</td>\n",
       "      <td>3.10</td>\n",
       "      <td>2015</td>\n",
       "    </tr>\n",
       "    <tr>\n",
       "      <th>106</th>\n",
       "      <td>6.0</td>\n",
       "      <td>Los Angeles Lakers</td>\n",
       "      <td>Basketball</td>\n",
       "      <td>United States</td>\n",
       "      <td>2.60</td>\n",
       "      <td>2015</td>\n",
       "    </tr>\n",
       "    <tr>\n",
       "      <th>107</th>\n",
       "      <td>6.0</td>\n",
       "      <td>New England Patriots</td>\n",
       "      <td>American Football</td>\n",
       "      <td>United States</td>\n",
       "      <td>2.60</td>\n",
       "      <td>2015</td>\n",
       "    </tr>\n",
       "    <tr>\n",
       "      <th>108</th>\n",
       "      <td>8.0</td>\n",
       "      <td>New York Knicks</td>\n",
       "      <td>Basketball</td>\n",
       "      <td>United States</td>\n",
       "      <td>2.50</td>\n",
       "      <td>2015</td>\n",
       "    </tr>\n",
       "    <tr>\n",
       "      <th>109</th>\n",
       "      <td>9.0</td>\n",
       "      <td>Los Angeles Dodgers</td>\n",
       "      <td>Baseball</td>\n",
       "      <td>United States</td>\n",
       "      <td>2.40</td>\n",
       "      <td>2015</td>\n",
       "    </tr>\n",
       "    <tr>\n",
       "      <th>110</th>\n",
       "      <td>9.0</td>\n",
       "      <td>Washington Redskins</td>\n",
       "      <td>American Football</td>\n",
       "      <td>United States</td>\n",
       "      <td>2.40</td>\n",
       "      <td>2015</td>\n",
       "    </tr>\n",
       "    <tr>\n",
       "      <th>111</th>\n",
       "      <td>1.0</td>\n",
       "      <td>Dallas Cowboys</td>\n",
       "      <td>American Football</td>\n",
       "      <td>United States</td>\n",
       "      <td>4.00</td>\n",
       "      <td>2016</td>\n",
       "    </tr>\n",
       "    <tr>\n",
       "      <th>112</th>\n",
       "      <td>2.0</td>\n",
       "      <td>Real Madrid</td>\n",
       "      <td>Football</td>\n",
       "      <td>Spain</td>\n",
       "      <td>3.65</td>\n",
       "      <td>2016</td>\n",
       "    </tr>\n",
       "    <tr>\n",
       "      <th>113</th>\n",
       "      <td>3.0</td>\n",
       "      <td>Barcelona</td>\n",
       "      <td>Football</td>\n",
       "      <td>Spain</td>\n",
       "      <td>3.55</td>\n",
       "      <td>2016</td>\n",
       "    </tr>\n",
       "    <tr>\n",
       "      <th>114</th>\n",
       "      <td>4.0</td>\n",
       "      <td>New York Yankees</td>\n",
       "      <td>Baseball</td>\n",
       "      <td>United States</td>\n",
       "      <td>3.40</td>\n",
       "      <td>2016</td>\n",
       "    </tr>\n",
       "    <tr>\n",
       "      <th>115</th>\n",
       "      <td>5.0</td>\n",
       "      <td>Manchester United</td>\n",
       "      <td>Football</td>\n",
       "      <td>England</td>\n",
       "      <td>3.32</td>\n",
       "      <td>2016</td>\n",
       "    </tr>\n",
       "    <tr>\n",
       "      <th>116</th>\n",
       "      <td>6.0</td>\n",
       "      <td>New England Patriots</td>\n",
       "      <td>American Football</td>\n",
       "      <td>United States</td>\n",
       "      <td>3.20</td>\n",
       "      <td>2016</td>\n",
       "    </tr>\n",
       "    <tr>\n",
       "      <th>117</th>\n",
       "      <td>7.0</td>\n",
       "      <td>New York Knicks</td>\n",
       "      <td>Basketball</td>\n",
       "      <td>United States</td>\n",
       "      <td>3.00</td>\n",
       "      <td>2016</td>\n",
       "    </tr>\n",
       "    <tr>\n",
       "      <th>118</th>\n",
       "      <td>8.0</td>\n",
       "      <td>Washington Redskins</td>\n",
       "      <td>American Football</td>\n",
       "      <td>United States</td>\n",
       "      <td>2.85</td>\n",
       "      <td>2016</td>\n",
       "    </tr>\n",
       "    <tr>\n",
       "      <th>119</th>\n",
       "      <td>9.0</td>\n",
       "      <td>New York Giants</td>\n",
       "      <td>American Football</td>\n",
       "      <td>United States</td>\n",
       "      <td>2.80</td>\n",
       "      <td>2016</td>\n",
       "    </tr>\n",
       "    <tr>\n",
       "      <th>120</th>\n",
       "      <td>10.0</td>\n",
       "      <td>Los Angeles Lakers</td>\n",
       "      <td>Basketball</td>\n",
       "      <td>United States</td>\n",
       "      <td>2.70</td>\n",
       "      <td>2016</td>\n",
       "    </tr>\n",
       "    <tr>\n",
       "      <th>121</th>\n",
       "      <td>10.0</td>\n",
       "      <td>San Francisco 49ers</td>\n",
       "      <td>American Football</td>\n",
       "      <td>United States</td>\n",
       "      <td>2.70</td>\n",
       "      <td>2016</td>\n",
       "    </tr>\n",
       "    <tr>\n",
       "      <th>0</th>\n",
       "      <td>1.0</td>\n",
       "      <td>Dallas Cowboys</td>\n",
       "      <td>American Football</td>\n",
       "      <td>United States</td>\n",
       "      <td>4.20</td>\n",
       "      <td>2017</td>\n",
       "    </tr>\n",
       "    <tr>\n",
       "      <th>1</th>\n",
       "      <td>2.0</td>\n",
       "      <td>New York Yankees</td>\n",
       "      <td>Baseball</td>\n",
       "      <td>United States</td>\n",
       "      <td>3.70</td>\n",
       "      <td>2017</td>\n",
       "    </tr>\n",
       "    <tr>\n",
       "      <th>2</th>\n",
       "      <td>3.0</td>\n",
       "      <td>Manchester United</td>\n",
       "      <td>Football</td>\n",
       "      <td>England</td>\n",
       "      <td>3.69</td>\n",
       "      <td>2017</td>\n",
       "    </tr>\n",
       "    <tr>\n",
       "      <th>3</th>\n",
       "      <td>4.0</td>\n",
       "      <td>Barcelona</td>\n",
       "      <td>Football</td>\n",
       "      <td>Spain</td>\n",
       "      <td>3.64</td>\n",
       "      <td>2017</td>\n",
       "    </tr>\n",
       "    <tr>\n",
       "      <th>4</th>\n",
       "      <td>5.0</td>\n",
       "      <td>Real Madrid</td>\n",
       "      <td>Football</td>\n",
       "      <td>Spain</td>\n",
       "      <td>3.58</td>\n",
       "      <td>2017</td>\n",
       "    </tr>\n",
       "    <tr>\n",
       "      <th>5</th>\n",
       "      <td>6.0</td>\n",
       "      <td>New England Patriots</td>\n",
       "      <td>American Football</td>\n",
       "      <td>United States</td>\n",
       "      <td>3.40</td>\n",
       "      <td>2017</td>\n",
       "    </tr>\n",
       "    <tr>\n",
       "      <th>6</th>\n",
       "      <td>7.0</td>\n",
       "      <td>New York Knicks</td>\n",
       "      <td>Basketball</td>\n",
       "      <td>United States</td>\n",
       "      <td>3.30</td>\n",
       "      <td>2017</td>\n",
       "    </tr>\n",
       "    <tr>\n",
       "      <th>7</th>\n",
       "      <td>8.0</td>\n",
       "      <td>New York Giants</td>\n",
       "      <td>American Football</td>\n",
       "      <td>United States</td>\n",
       "      <td>3.10</td>\n",
       "      <td>2017</td>\n",
       "    </tr>\n",
       "    <tr>\n",
       "      <th>8</th>\n",
       "      <td>9.0</td>\n",
       "      <td>Los Angeles Lakers</td>\n",
       "      <td>Basketball</td>\n",
       "      <td>United States</td>\n",
       "      <td>3.00</td>\n",
       "      <td>2017</td>\n",
       "    </tr>\n",
       "    <tr>\n",
       "      <th>9</th>\n",
       "      <td>9.0</td>\n",
       "      <td>San Francisco 49ers</td>\n",
       "      <td>American Football</td>\n",
       "      <td>United States</td>\n",
       "      <td>3.00</td>\n",
       "      <td>2017</td>\n",
       "    </tr>\n",
       "  </tbody>\n",
       "</table>\n",
       "<p>81 rows × 6 columns</p>\n",
       "</div>"
      ],
      "text/plain": [
       "     Rang                   Ime              Sport         Drzava  Vrednost  \\\n",
       "51    1.0     Manchester United           Football        England      1.83   \n",
       "52    2.0        Dallas Cowboys  American Football  United States      1.65   \n",
       "53    3.0      New York Yankees           Baseball  United States      1.60   \n",
       "54    4.0   Washington Redskins  American Football  United States      1.55   \n",
       "55    5.0  New England Patriots  American Football  United States      1.36   \n",
       "56    6.0           Real Madrid           Football          Spain      1.32   \n",
       "57    7.0       New York Giants  American Football  United States      1.18   \n",
       "58    8.0               Arsenal           Football        England      1.18   \n",
       "59    9.0         New York Jets  American Football  United States      1.17   \n",
       "60   10.0        Houston Texans  American Football  United States      1.15   \n",
       "61    1.0     Manchester United           Football        England      1.86   \n",
       "62    2.0        Dallas Cowboys  American Football  United States      1.81   \n",
       "63    3.0      New York Yankees           Baseball  United States      1.70   \n",
       "64    4.0   Washington Redskins  American Football  United States      1.55   \n",
       "65    5.0           Real Madrid           Football          Spain      1.45   \n",
       "66    6.0  New England Patriots  American Football  United States      1.37   \n",
       "67    7.0               Arsenal           Football        England      1.19   \n",
       "68    8.0       New York Giants  American Football  United States      1.18   \n",
       "69    9.0        Houston Texans  American Football  United States      1.17   \n",
       "70   10.0         New York Jets  American Football  United States      1.14   \n",
       "71    1.0     Manchester United           Football        England      2.23   \n",
       "72    2.0           Real Madrid           Football          Spain      1.88   \n",
       "73    3.0      New York Yankees           Baseball  United States      1.85   \n",
       "74    3.0        Dallas Cowboys  American Football  United States      1.85   \n",
       "75    5.0   Washington Redskins  American Football  United States      1.56   \n",
       "76    6.0   Los Angeles Dodgers           Baseball  United States      1.40   \n",
       "77    6.0  New England Patriots  American Football  United States      1.40   \n",
       "78    8.0             Barcelona           Football          Spain      1.31   \n",
       "79    9.0       New York Giants  American Football  United States      1.30   \n",
       "80   10.0               Arsenal           Football        England      1.29   \n",
       "..    ...                   ...                ...            ...       ...   \n",
       "102   2.0        Dallas Cowboys  American Football  United States      3.20   \n",
       "103   2.0      New York Yankees           Baseball  United States      3.20   \n",
       "104   4.0             Barcelona           Football          Spain      3.16   \n",
       "105   5.0     Manchester United           Football        England      3.10   \n",
       "106   6.0    Los Angeles Lakers         Basketball  United States      2.60   \n",
       "107   6.0  New England Patriots  American Football  United States      2.60   \n",
       "108   8.0       New York Knicks         Basketball  United States      2.50   \n",
       "109   9.0   Los Angeles Dodgers           Baseball  United States      2.40   \n",
       "110   9.0   Washington Redskins  American Football  United States      2.40   \n",
       "111   1.0        Dallas Cowboys  American Football  United States      4.00   \n",
       "112   2.0           Real Madrid           Football          Spain      3.65   \n",
       "113   3.0             Barcelona           Football          Spain      3.55   \n",
       "114   4.0      New York Yankees           Baseball  United States      3.40   \n",
       "115   5.0     Manchester United           Football        England      3.32   \n",
       "116   6.0  New England Patriots  American Football  United States      3.20   \n",
       "117   7.0       New York Knicks         Basketball  United States      3.00   \n",
       "118   8.0   Washington Redskins  American Football  United States      2.85   \n",
       "119   9.0       New York Giants  American Football  United States      2.80   \n",
       "120  10.0    Los Angeles Lakers         Basketball  United States      2.70   \n",
       "121  10.0   San Francisco 49ers  American Football  United States      2.70   \n",
       "0     1.0        Dallas Cowboys  American Football  United States      4.20   \n",
       "1     2.0      New York Yankees           Baseball  United States      3.70   \n",
       "2     3.0     Manchester United           Football        England      3.69   \n",
       "3     4.0             Barcelona           Football          Spain      3.64   \n",
       "4     5.0           Real Madrid           Football          Spain      3.58   \n",
       "5     6.0  New England Patriots  American Football  United States      3.40   \n",
       "6     7.0       New York Knicks         Basketball  United States      3.30   \n",
       "7     8.0       New York Giants  American Football  United States      3.10   \n",
       "8     9.0    Los Angeles Lakers         Basketball  United States      3.00   \n",
       "9     9.0   San Francisco 49ers  American Football  United States      3.00   \n",
       "\n",
       "     Leto  \n",
       "51   2010  \n",
       "52   2010  \n",
       "53   2010  \n",
       "54   2010  \n",
       "55   2010  \n",
       "56   2010  \n",
       "57   2010  \n",
       "58   2010  \n",
       "59   2010  \n",
       "60   2010  \n",
       "61   2011  \n",
       "62   2011  \n",
       "63   2011  \n",
       "64   2011  \n",
       "65   2011  \n",
       "66   2011  \n",
       "67   2011  \n",
       "68   2011  \n",
       "69   2011  \n",
       "70   2011  \n",
       "71   2012  \n",
       "72   2012  \n",
       "73   2012  \n",
       "74   2012  \n",
       "75   2012  \n",
       "76   2012  \n",
       "77   2012  \n",
       "78   2012  \n",
       "79   2012  \n",
       "80   2012  \n",
       "..    ...  \n",
       "102  2015  \n",
       "103  2015  \n",
       "104  2015  \n",
       "105  2015  \n",
       "106  2015  \n",
       "107  2015  \n",
       "108  2015  \n",
       "109  2015  \n",
       "110  2015  \n",
       "111  2016  \n",
       "112  2016  \n",
       "113  2016  \n",
       "114  2016  \n",
       "115  2016  \n",
       "116  2016  \n",
       "117  2016  \n",
       "118  2016  \n",
       "119  2016  \n",
       "120  2016  \n",
       "121  2016  \n",
       "0    2017  \n",
       "1    2017  \n",
       "2    2017  \n",
       "3    2017  \n",
       "4    2017  \n",
       "5    2017  \n",
       "6    2017  \n",
       "7    2017  \n",
       "8    2017  \n",
       "9    2017  \n",
       "\n",
       "[81 rows x 6 columns]"
      ]
     },
     "execution_count": 104,
     "metadata": {},
     "output_type": "execute_result"
    }
   ],
   "source": [
    "Forbes_deset.sort_values(['Leto', 'Vrednost'], ascending=[True, False])"
   ]
  },
  {
   "cell_type": "markdown",
   "metadata": {},
   "source": [
    "Ponovil bom hitre analize na novi tabeli"
   ]
  },
  {
   "cell_type": "code",
   "execution_count": 105,
   "metadata": {},
   "outputs": [],
   "source": [
    "klubi_po_sportu_10 = Forbes_deset.groupby('Sport')"
   ]
  },
  {
   "cell_type": "code",
   "execution_count": 106,
   "metadata": {},
   "outputs": [
    {
     "data": {
      "text/html": [
       "<div>\n",
       "<style scoped>\n",
       "    .dataframe tbody tr th:only-of-type {\n",
       "        vertical-align: middle;\n",
       "    }\n",
       "\n",
       "    .dataframe tbody tr th {\n",
       "        vertical-align: top;\n",
       "    }\n",
       "\n",
       "    .dataframe thead th {\n",
       "        text-align: right;\n",
       "    }\n",
       "</style>\n",
       "<table border=\"1\" class=\"dataframe\">\n",
       "  <thead>\n",
       "    <tr style=\"text-align: right;\">\n",
       "      <th></th>\n",
       "      <th>Rang</th>\n",
       "      <th>Ime</th>\n",
       "      <th>Drzava</th>\n",
       "      <th>Vrednost</th>\n",
       "      <th>Leto</th>\n",
       "    </tr>\n",
       "    <tr>\n",
       "      <th>Sport</th>\n",
       "      <th></th>\n",
       "      <th></th>\n",
       "      <th></th>\n",
       "      <th></th>\n",
       "      <th></th>\n",
       "    </tr>\n",
       "  </thead>\n",
       "  <tbody>\n",
       "    <tr>\n",
       "      <th>American Football</th>\n",
       "      <td>36</td>\n",
       "      <td>36</td>\n",
       "      <td>36</td>\n",
       "      <td>36</td>\n",
       "      <td>36</td>\n",
       "    </tr>\n",
       "    <tr>\n",
       "      <th>Football</th>\n",
       "      <td>27</td>\n",
       "      <td>27</td>\n",
       "      <td>27</td>\n",
       "      <td>27</td>\n",
       "      <td>27</td>\n",
       "    </tr>\n",
       "    <tr>\n",
       "      <th>Baseball</th>\n",
       "      <td>12</td>\n",
       "      <td>12</td>\n",
       "      <td>12</td>\n",
       "      <td>12</td>\n",
       "      <td>12</td>\n",
       "    </tr>\n",
       "    <tr>\n",
       "      <th>Basketball</th>\n",
       "      <td>6</td>\n",
       "      <td>6</td>\n",
       "      <td>6</td>\n",
       "      <td>6</td>\n",
       "      <td>6</td>\n",
       "    </tr>\n",
       "  </tbody>\n",
       "</table>\n",
       "</div>"
      ],
      "text/plain": [
       "                   Rang  Ime  Drzava  Vrednost  Leto\n",
       "Sport                                               \n",
       "American Football    36   36      36        36    36\n",
       "Football             27   27      27        27    27\n",
       "Baseball             12   12      12        12    12\n",
       "Basketball            6    6       6         6     6"
      ]
     },
     "execution_count": 106,
     "metadata": {},
     "output_type": "execute_result"
    }
   ],
   "source": [
    "klubi_po_sportu_10.count().sort_values('Ime', ascending = False)"
   ]
  },
  {
   "cell_type": "markdown",
   "metadata": {},
   "source": [
    "Vrstni red ostaja enak, tako, da so bile moje predpostavke vseeno napačne, nogomet ni vladar športa. "
   ]
  },
  {
   "cell_type": "code",
   "execution_count": 107,
   "metadata": {},
   "outputs": [],
   "source": [
    "klubi_po_drzavah_10 = Forbes_deset.groupby('Drzava')"
   ]
  },
  {
   "cell_type": "code",
   "execution_count": 108,
   "metadata": {},
   "outputs": [
    {
     "data": {
      "text/html": [
       "<div>\n",
       "<style scoped>\n",
       "    .dataframe tbody tr th:only-of-type {\n",
       "        vertical-align: middle;\n",
       "    }\n",
       "\n",
       "    .dataframe tbody tr th {\n",
       "        vertical-align: top;\n",
       "    }\n",
       "\n",
       "    .dataframe thead th {\n",
       "        text-align: right;\n",
       "    }\n",
       "</style>\n",
       "<table border=\"1\" class=\"dataframe\">\n",
       "  <thead>\n",
       "    <tr style=\"text-align: right;\">\n",
       "      <th></th>\n",
       "      <th>Rang</th>\n",
       "      <th>Ime</th>\n",
       "      <th>Sport</th>\n",
       "      <th>Vrednost</th>\n",
       "      <th>Leto</th>\n",
       "    </tr>\n",
       "    <tr>\n",
       "      <th>Drzava</th>\n",
       "      <th></th>\n",
       "      <th></th>\n",
       "      <th></th>\n",
       "      <th></th>\n",
       "      <th></th>\n",
       "    </tr>\n",
       "  </thead>\n",
       "  <tbody>\n",
       "    <tr>\n",
       "      <th>England</th>\n",
       "      <td>12</td>\n",
       "      <td>12</td>\n",
       "      <td>12</td>\n",
       "      <td>12</td>\n",
       "      <td>12</td>\n",
       "    </tr>\n",
       "    <tr>\n",
       "      <th>Germany</th>\n",
       "      <td>1</td>\n",
       "      <td>1</td>\n",
       "      <td>1</td>\n",
       "      <td>1</td>\n",
       "      <td>1</td>\n",
       "    </tr>\n",
       "    <tr>\n",
       "      <th>Spain</th>\n",
       "      <td>14</td>\n",
       "      <td>14</td>\n",
       "      <td>14</td>\n",
       "      <td>14</td>\n",
       "      <td>14</td>\n",
       "    </tr>\n",
       "    <tr>\n",
       "      <th>United States</th>\n",
       "      <td>54</td>\n",
       "      <td>54</td>\n",
       "      <td>54</td>\n",
       "      <td>54</td>\n",
       "      <td>54</td>\n",
       "    </tr>\n",
       "  </tbody>\n",
       "</table>\n",
       "</div>"
      ],
      "text/plain": [
       "               Rang  Ime  Sport  Vrednost  Leto\n",
       "Drzava                                         \n",
       "England          12   12     12        12    12\n",
       "Germany           1    1      1         1     1\n",
       "Spain            14   14     14        14    14\n",
       "United States    54   54     54        54    54"
      ]
     },
     "execution_count": 108,
     "metadata": {},
     "output_type": "execute_result"
    }
   ],
   "source": [
    "klubi_po_drzavah_10.count()"
   ]
  },
  {
   "cell_type": "markdown",
   "metadata": {},
   "source": [
    "Prav tako so združene države Amerike trdno na prvem mestu, je pa vseeno opaziti, da se je število Evropskih klubov le malenkost zmanjšalo, število klubov iz Združenih držav Amerike pa skoraj razpolovilo. Iz tega lahko sklepam, da je nekaj Evropskih klubov, ki so \"velikani\" in se skoraj vedno znajdejo med top 10 klubi, ostali evropski klubi pa niso konkurenčni."
   ]
  },
  {
   "cell_type": "markdown",
   "metadata": {},
   "source": [
    "### Grafična analiza podatkov"
   ]
  },
  {
   "cell_type": "markdown",
   "metadata": {},
   "source": [
    "Sedaj me je zanimalo kako se je vrednost klubov spreminjala skozi čas. Neko grobo predstavitev bi lahko naredil tako, da za vsako leto vzamem povprečje vrednosti klubov in to prikažem skozi leta."
   ]
  },
  {
   "cell_type": "code",
   "execution_count": 109,
   "metadata": {},
   "outputs": [],
   "source": [
    "klubi_po_letih = Forbes_deset.groupby('Leto')"
   ]
  },
  {
   "cell_type": "code",
   "execution_count": 110,
   "metadata": {},
   "outputs": [
    {
     "data": {
      "text/plain": [
       "Leto\n",
       "2010    1.399000\n",
       "2011    1.442000\n",
       "2012    1.607000\n",
       "2013    2.110900\n",
       "2014    2.315000\n",
       "2015    2.842000\n",
       "2016    3.197273\n",
       "2017    3.461000\n",
       "Name: Vrednost, dtype: float64"
      ]
     },
     "execution_count": 110,
     "metadata": {},
     "output_type": "execute_result"
    }
   ],
   "source": [
    "klubi_po_letih['Vrednost'].mean()"
   ]
  },
  {
   "cell_type": "code",
   "execution_count": 134,
   "metadata": {},
   "outputs": [
    {
     "data": {
      "text/plain": [
       "<matplotlib.axes._subplots.AxesSubplot at 0x110de970>"
      ]
     },
     "execution_count": 134,
     "metadata": {},
     "output_type": "execute_result"
    },
    {
     "data": {
      "image/png": "[encoded data removed]",
      "text/plain": [
       "<matplotlib.figure.Figure at 0xfb81650>"
      ]
     },
     "metadata": {},
     "output_type": "display_data"
    }
   ],
   "source": [
    "klubi_po_letih['Vrednost'].mean().plot(x='Leto', y = 'Vrednost', title = 'Povprečna vrednost klubov v Forbesovi listi glede na leto')"
   ]
  },
  {
   "cell_type": "markdown",
   "metadata": {},
   "source": [
    "Vidimo, da povprečje vrednosti klubov skozi čas raste. Zanima me kako se v posameznih letih razlikujejo vrednosti klubov, med prvim in desetim. Pogledal bom za leti 2010 in 2017 in poizkušal poiskati kaj zanimivega."
   ]
  },
  {
   "cell_type": "code",
   "execution_count": 142,
   "metadata": {},
   "outputs": [
    {
     "data": {
      "text/plain": [
       "<matplotlib.axes._subplots.AxesSubplot at 0x13317df0>"
      ]
     },
     "execution_count": 142,
     "metadata": {},
     "output_type": "execute_result"
    },
    {
     "data": {
      "image/png": "[encoded data removed]",
      "text/plain": [
       "<matplotlib.figure.Figure at 0x133292d0>"
      ]
     },
     "metadata": {},
     "output_type": "display_data"
    }
   ],
   "source": [
    "Forbes_deset[Forbes_deset['Leto']==2010].plot(x='Ime', y='Vrednost', title = 'Vrednosti TOP 10 klubov v letu 2010, od najboljšega do najslabšega')"
   ]
  },
  {
   "cell_type": "code",
   "execution_count": 141,
   "metadata": {},
   "outputs": [
    {
     "data": {
      "text/plain": [
       "<matplotlib.axes._subplots.AxesSubplot at 0x1305fc70>"
      ]
     },
     "execution_count": 141,
     "metadata": {},
     "output_type": "execute_result"
    },
    {
     "data": {
      "image/png": "[encoded data removed]",
      "text/plain": [
       "<matplotlib.figure.Figure at 0x132e6770>"
      ]
     },
     "metadata": {},
     "output_type": "display_data"
    }
   ],
   "source": [
    "Forbes_deset[Forbes_deset['Leto']==2017].plot(x='Ime', y='Vrednost', title= 'Vrednosti TOP 10 klubov v letu 2017,od najboljšega do najslabšega')"
   ]
  },
  {
   "cell_type": "markdown",
   "metadata": {},
   "source": [
    "Ne opazim ničesar zanimivega. Če pogledam delež med najbolje ocenjenim in deseto najbolje ocenjenim klubom se iz leta 2010 v leto 2017 ne spremeni drastično. Zanima me ali je morda opaziti kaj zanimivega, če vključim vseh 50 klubov za leto 2017. "
   ]
  },
  {
   "cell_type": "code",
   "execution_count": 140,
   "metadata": {},
   "outputs": [
    {
     "data": {
      "text/plain": [
       "<matplotlib.axes._subplots.AxesSubplot at 0x1304f050>"
      ]
     },
     "execution_count": 140,
     "metadata": {},
     "output_type": "execute_result"
    },
    {
     "data": {
      "image/png": "[encoded data removed]",
      "text/plain": [
       "<matplotlib.figure.Figure at 0x12d1c970>"
      ]
     },
     "metadata": {},
     "output_type": "display_data"
    }
   ],
   "source": [
    "tabela[tabela['Leto']==2017].plot(x='Ime', y='Vrednost', title= 'Vrednosti TOP 50 klubov v letu 2017, od najboljšega do najslabšega ')"
   ]
  },
  {
   "cell_type": "markdown",
   "metadata": {},
   "source": [
    "Opazim, da vrednost na začetku močno pada, nato pa vedno počasneje, kar je v skladu s pričakovanji. Imamo določeno število klubov, ki so čisto na vrhu in dominirajo na svojih področjih nato pa je vedno več in več klubov, ki so konkurenčni med seboj. "
   ]
  },
  {
   "cell_type": "markdown",
   "metadata": {},
   "source": [
    "#### Primerjava med Forbesovo listo in najdražjimi pogodbami"
   ]
  },
  {
   "cell_type": "markdown",
   "metadata": {},
   "source": [
    "Zgornje analize so pokazale, da je največ najboljše ocenjenih klubov iz Ameriškega nogometa nato nogometa, baseballa in košarke. Rad bi smiselno primerjal podatke med Forbesovo listo in najdražjimi pogodbami. Odločil sem pogledati koliko znašajo povprečne letne pogodbe glede na šport. To bom primerjal s povprečnimi Forbesovimi ocenami glede na šport.  "
   ]
  },
  {
   "cell_type": "code",
   "execution_count": 115,
   "metadata": {},
   "outputs": [
    {
     "data": {
      "text/plain": [
       "Sport\n",
       "Boxing                  7.200000e+07\n",
       "Auto racing             3.955556e+07\n",
       "Association football    3.034500e+07\n",
       "Basketball              2.344891e+07\n",
       "Baseball                2.188597e+07\n",
       "American football       1.812792e+07\n",
       "Hockey                  8.698535e+06\n",
       "Name: Vrednost_pogodbe_letno, dtype: float64"
      ]
     },
     "execution_count": 115,
     "metadata": {},
     "output_type": "execute_result"
    }
   ],
   "source": [
    "pogodbe_po_sportu['Vrednost_pogodbe_letno'].mean().sort_values(ascending=False)"
   ]
  },
  {
   "cell_type": "code",
   "execution_count": 133,
   "metadata": {},
   "outputs": [
    {
     "data": {
      "text/plain": [
       "<matplotlib.axes._subplots.AxesSubplot at 0x11061330>"
      ]
     },
     "execution_count": 133,
     "metadata": {},
     "output_type": "execute_result"
    },
    {
     "data": {
      "image/png": "[encoded data removed]",
      "text/plain": [
       "<matplotlib.figure.Figure at 0x11090070>"
      ]
     },
     "metadata": {},
     "output_type": "display_data"
    }
   ],
   "source": [
    "pogodbe_po_sportu['Vrednost_pogodbe_letno'].mean().sort_values().plot.bar(x=\"Sport\",y='Vrednost_pogodbe_letno', title= 'Povprečne letne pogodbe glede na šport')"
   ]
  },
  {
   "cell_type": "code",
   "execution_count": 131,
   "metadata": {},
   "outputs": [
    {
     "data": {
      "text/plain": [
       "<matplotlib.axes._subplots.AxesSubplot at 0x1102af70>"
      ]
     },
     "execution_count": 131,
     "metadata": {},
     "output_type": "execute_result"
    },
    {
     "data": {
      "image/png": "[encoded data removed]",
      "text/plain": [
       "<matplotlib.figure.Figure at 0xf2ce610>"
      ]
     },
     "metadata": {},
     "output_type": "display_data"
    }
   ],
   "source": [
    "klubi_po_sportu_10['Vrednost'].mean().sort_values().plot.bar(x='Sport', y='Vrednost', title= 'Povprečne ocene v Forbesovi listi glede na šport')"
   ]
  },
  {
   "cell_type": "markdown",
   "metadata": {},
   "source": [
    "Analiziral bi samo podatke za športe, ki so prisotni na Forbesovi listi. Najdražje letne pogodbe so pri nogometu, nato košarki, baseballu in nazadnje pri Ameriškemu nogometu. Opazimo lahko odstopanja od podatkov iz Forbesove liste,tam je vrstni red namreč Ameriški nogomet < Baseball < Nogomet < Košarka. Pomembno pa je pripomniti, da se števila pogodb za posamezne športe močno razlikujejo. V podatkih imam namreč samo štiri nogometne pogodbe in šestdeset pogodb za baseball, pri povprečju lahko zato pride do večjih odstopanj. Močno preseneča košarka v obeh analizah,saj, ko sem analiziral katerih 10 klubov se je največkrat pojavilo na Forbesovi listi skozi vsa leta, se med njii ni znašel noben košarkaški klub. Imela je tud najmanj predstavnikov v Forbesovih listah na splošno. V analizi povprečne ocenjeni vrednosti pa zasede prvo mesto. "
   ]
  },
  {
   "cell_type": "markdown",
   "metadata": {},
   "source": [
    "#### Delež športov in klubov skozi čas "
   ]
  },
  {
   "cell_type": "markdown",
   "metadata": {},
   "source": [
    "Zanima me kako se je spreminjal delež športov skozi čas v Forbesovi listi in delež klubov skozi čas. "
   ]
  },
  {
   "cell_type": "code",
   "execution_count": 129,
   "metadata": {},
   "outputs": [
    {
     "data": {
      "text/plain": [
       "<matplotlib.axes._subplots.AxesSubplot at 0xff032f0>"
      ]
     },
     "execution_count": 129,
     "metadata": {},
     "output_type": "execute_result"
    },
    {
     "data": {
      "image/png": "[encoded data removed]",
      "text/plain": [
       "<matplotlib.figure.Figure at 0xff03990>"
      ]
     },
     "metadata": {},
     "output_type": "display_data"
    }
   ],
   "source": [
    "sport_leta = Forbes_deset.groupby(['Leto','Sport']).size().unstack()\n",
    "delez_sportov_leta = sport_leta.apply(lambda st: st /st.sum(), axis = 1)\n",
    "delez_sportov_leta.plot(kind='area', title = 'Zastopanost športov v Forbesovi listi tekom let')"
   ]
  },
  {
   "cell_type": "markdown",
   "metadata": {},
   "source": [
    "Vidimo da skozi vsa leta prevladuje Ameriški nogomet. Leta 2010 je predstavljal kar 60%. Nato je prišel čas nogometa, povečal se je tudi delež baseballa. Leta 2014/2015 se pridruži tudi košarka. Delež Baseballa in nogometa se takrat zmanjša, poveča se delež Ameriškega nogometa. Iz tukaj lahko dobro pokomentiram zakaj ima košarka tako visoko povprečno vrednost v Forbesovih listah. Celotne vrednosti klubov so skozi čas močno rastle. Ker se je košarka vključila šele v zadnjih letih in takrat konkurirala ostalim je v analizo povprečnih vrednosti prišla samo z zelo visokimi vrednostmi. Če bi vključil vrednosti teh košarkaških klubov tudi za leta ko nimam podatkov (2010,2011,...) bi bila povprečna vrednost košarke sigurno drastično nižja. Podoben razmislek nam da odgovore zakaj je povprečna vrednost klubov Ameriškega nogometa \"nizka\" v primerjavi z ostalimi. Največji delež je Ameriški nogomet predstavljal leta 2010, torej je v analizo povprečnih vrednosti prispeval največji delež ko so bile vse vrednosti \"majhne\" v primerjavi z današnjimi. Da moje razmisleke podkrepim z rezultati bom naredil povprečno vrednost klubov od leta 2015 naprej (takrat so vključeni vsi športi). "
   ]
  },
  {
   "cell_type": "code",
   "execution_count": 147,
   "metadata": {},
   "outputs": [
    {
     "data": {
      "text/plain": [
       "<matplotlib.axes._subplots.AxesSubplot at 0x1362e5f0>"
      ]
     },
     "execution_count": 147,
     "metadata": {},
     "output_type": "execute_result"
    },
    {
     "data": {
      "image/png": "[encoded data removed]",
      "text/plain": [
       "<matplotlib.figure.Figure at 0x13609cd0>"
      ]
     },
     "metadata": {},
     "output_type": "display_data"
    }
   ],
   "source": [
    "danasnje_vrednosti = Forbes_deset[Forbes_deset.Leto > 2014].groupby('Sport')\n",
    "danasnje_vrednosti['Vrednost'].mean().sort_values().plot.bar(x='Sport', y='Vrednost', title= 'Povprečne ocene v Forbesovi listi glede na šport od leta 2015 naprej')"
   ]
  },
  {
   "cell_type": "markdown",
   "metadata": {},
   "source": [
    "Zgornji graf prikazuje bolj realno primerjavo med športi. Čudi me, da je baseball vseeno pred Ameriškim nogometom. Se pa ujema z dejstvom, da je baseball šport, ki je imel daleč največ najdražjih pogodb med vsemi športi. "
   ]
  },
  {
   "cell_type": "markdown",
   "metadata": {},
   "source": [
    "Naredil bom tudi zastopanost klubov v Forbesovi listi tekom let. "
   ]
  },
  {
   "cell_type": "code",
   "execution_count": 130,
   "metadata": {},
   "outputs": [
    {
     "data": {
      "text/plain": [
       "<matplotlib.legend.Legend at 0xfa1c290>"
      ]
     },
     "execution_count": 130,
     "metadata": {},
     "output_type": "execute_result"
    },
    {
     "data": {
      "image/png": "[encoded data removed]",
      "text/plain": [
       "<matplotlib.figure.Figure at 0xfb62790>"
      ]
     },
     "metadata": {},
     "output_type": "display_data"
    }
   ],
   "source": [
    "klub_leta = Forbes_deset.groupby(['Leto', 'Ime']).size().unstack()\n",
    "delez_klubov_leta = klub_leta.apply(lambda st: st/st.sum(), axis = 1)\n",
    "delez_klubov_leta.plot(kind = 'area', title = 'Zastopanost klubov v Forbesovi listi tekom let').legend(loc = 'lower left')\n"
   ]
  },
  {
   "cell_type": "markdown",
   "metadata": {},
   "source": [
    "Deleži niso tako zanimivi, nekateri klubi so člani Forbesove liste skozi vsa leta, torej vedno predstavljajo 1/10, nekateri so bili in niso več ter obratno.  "
   ]
  },
  {
   "cell_type": "markdown",
   "metadata": {},
   "source": [
    "Za konec še pogled v današnje stanje, torej leto 2017. Kolikšen delež med najboljše ocenjenimi petdesetimi klubi predstavlja kateri šport. "
   ]
  },
  {
   "cell_type": "code",
   "execution_count": 160,
   "metadata": {},
   "outputs": [],
   "source": [
    "letos_sport = tabela[tabela.Leto == 2017].groupby('Sport').size()"
   ]
  },
  {
   "cell_type": "code",
   "execution_count": 161,
   "metadata": {
    "scrolled": true
   },
   "outputs": [
    {
     "data": {
      "image/png": "[encoded data removed]",
      "text/plain": [
       "<matplotlib.figure.Figure at 0x13d6f9f0>"
      ]
     },
     "metadata": {},
     "output_type": "display_data"
    }
   ],
   "source": [
    "g = letos_sport.plot.pie(figsize =(8,8),autopct = '%.2f',title = 'Delež športov v Forbesovi listi najboljših 50 klubov za leto 2017')\n",
    "g.set_ylabel('')\n",
    "plt.show()"
   ]
  },
  {
   "cell_type": "markdown",
   "metadata": {},
   "source": [
    "Vidimo, da prevladuje Ameriški nogomet drugi je Basebal, košarka in nogomet si delita tretje mesto. Poglejmo še povprečno vrednosti glede na šport samo za leto 2017. "
   ]
  },
  {
   "cell_type": "code",
   "execution_count": 165,
   "metadata": {},
   "outputs": [
    {
     "data": {
      "text/plain": [
       "<matplotlib.axes._subplots.AxesSubplot at 0x13d6fcd0>"
      ]
     },
     "execution_count": 165,
     "metadata": {},
     "output_type": "execute_result"
    },
    {
     "data": {
      "image/png": "[encoded data removed]",
      "text/plain": [
       "<matplotlib.figure.Figure at 0x13fde0d0>"
      ]
     },
     "metadata": {},
     "output_type": "display_data"
    }
   ],
   "source": [
    "danasnje_vrednosti_2017 = tabela[tabela.Leto == 2017].groupby('Sport')\n",
    "danasnje_vrednosti_2017['Vrednost'].mean().sort_values().plot.bar(x='Sport', y='Vrednost', title= 'Povprečne ocene v Forbesovi listi petdesetih najboljših klubov glede na šport leta 2017')"
   ]
  },
  {
   "cell_type": "markdown",
   "metadata": {},
   "source": [
    "Malo nazaj sem naredil analizo od leta 2015 naprej, kjer je bila košarka na zadnjem mestu. Sedaj pa vidim, da je v letu 2017 na drugem mestu. Vključila se je s svojimi predstavniki šele leta 2015 in sedaj po dveh letih že napreduje. Nogomet je na prvem mestu. Ne glede na to, da imata baseball in predvsem Ameriški nogomet večji delež od košarke in nogometa v letu 2017, imata nižje povprečne vrednosti. Razlago vidim zopet v tem, da če se nogometni/košarkaški klub uvrsti v Forbesovo listo, se uvrsti zelo visoko in zato ima visoka povprečja."
   ]
  },
  {
   "cell_type": "markdown",
   "metadata": {},
   "source": [
    "## Zaključek "
   ]
  },
  {
   "cell_type": "markdown",
   "metadata": {},
   "source": [
    "Podatke sem analiziral z veliko različnih kotov in prišel do ugotovitve, da jih lahko obrnem v prid skoraj katerega koli športa. Če večino ugotovitev strnim sedaj v par povedi. Po številu predstavnikov v Forbesovi listi nedvomno prevladuje Ameriški nogomet. Baseball ima največ predstavnikov pri številu najdražjih pogodb. Nogomet in košarka imata zelo visoke povprečne vrednosti v Forbesovih listah. Cene pogodb in vrednosti klubov se s časom povečujejo. Začetna hipoteza, da bo nogomet vladar športov pa je lahko ovržena ali potrjena, odvisna katere analize pogledam. "
   ]
  },
  {
   "cell_type": "code",
   "execution_count": null,
   "metadata": {},
   "outputs": [],
   "source": []
  }
 ],
 "metadata": {
  "kernelspec": {
   "display_name": "Python 3",
   "language": "python",
   "name": "python3"
  },
  "language_info": {
   "codemirror_mode": {
    "name": "ipython",
    "version": 3
   },
   "file_extension": ".py",
   "mimetype": "text/x-python",
   "name": "python",
   "nbconvert_exporter": "python",
   "pygments_lexer": "ipython3",
   "version": "3.6.3"
  }
 },
 "nbformat": 4,
 "nbformat_minor": 2
}
